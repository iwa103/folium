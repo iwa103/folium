{
  "nbformat": 4,
  "nbformat_minor": 0,
  "metadata": {
    "colab": {
      "provenance": [],
      "authorship_tag": "ABX9TyP6iYMzGtYux0WnfCaQt/ia",
      "include_colab_link": true
    },
    "kernelspec": {
      "name": "python3",
      "display_name": "Python 3"
    },
    "language_info": {
      "name": "python"
    }
  },
  "cells": [
    {
      "cell_type": "markdown",
      "metadata": {
        "id": "view-in-github",
        "colab_type": "text"
      },
      "source": [
        "<a href=\"https://colab.research.google.com/github/iwa103/folium/blob/main/folium_basic.ipynb\" target=\"_parent\"><img src=\"https://colab.research.google.com/assets/colab-badge.svg\" alt=\"Open In Colab\"/></a>"
      ]
    },
    {
      "cell_type": "markdown",
      "source": [
        "①Map display-1 (Map display: Center is in Portland, USA)"
      ],
      "metadata": {
        "id": "xF4Ud82mR6xB"
      }
    },
    {
      "cell_type": "markdown",
      "source": [
        "①地図表示ー１（地図を表示：センターは米ポートランド）"
      ],
      "metadata": {
        "id": "Vhl9kW1ljYPg"
      }
    },
    {
      "cell_type": "code",
      "execution_count": null,
      "metadata": {
        "id": "7IsZlz9pAzfd",
        "outputId": "4eded68b-6d2f-4859-f3a0-3c7cba60ed6a",
        "colab": {
          "base_uri": "https://localhost:8080/",
          "height": 585
        }
      },
      "outputs": [
        {
          "output_type": "execute_result",
          "data": {
            "text/plain": [
              "<folium.folium.Map at 0x7cf6a8de4280>"
            ],
            "text/html": [
              "<div style=\"width:100%;\"><div style=\"position:relative;width:100%;height:0;padding-bottom:60%;\"><span style=\"color:#565656\">Make this Notebook Trusted to load map: File -> Trust Notebook</span><iframe srcdoc=\"&lt;!DOCTYPE html&gt;\n",
              "&lt;html&gt;\n",
              "&lt;head&gt;\n",
              "    \n",
              "    &lt;meta http-equiv=&quot;content-type&quot; content=&quot;text/html; charset=UTF-8&quot; /&gt;\n",
              "    \n",
              "        &lt;script&gt;\n",
              "            L_NO_TOUCH = false;\n",
              "            L_DISABLE_3D = false;\n",
              "        &lt;/script&gt;\n",
              "    \n",
              "    &lt;style&gt;html, body {width: 100%;height: 100%;margin: 0;padding: 0;}&lt;/style&gt;\n",
              "    &lt;style&gt;#map {position:absolute;top:0;bottom:0;right:0;left:0;}&lt;/style&gt;\n",
              "    &lt;script src=&quot;https://cdn.jsdelivr.net/npm/leaflet@1.9.3/dist/leaflet.js&quot;&gt;&lt;/script&gt;\n",
              "    &lt;script src=&quot;https://code.jquery.com/jquery-3.7.1.min.js&quot;&gt;&lt;/script&gt;\n",
              "    &lt;script src=&quot;https://cdn.jsdelivr.net/npm/bootstrap@5.2.2/dist/js/bootstrap.bundle.min.js&quot;&gt;&lt;/script&gt;\n",
              "    &lt;script src=&quot;https://cdnjs.cloudflare.com/ajax/libs/Leaflet.awesome-markers/2.0.2/leaflet.awesome-markers.js&quot;&gt;&lt;/script&gt;\n",
              "    &lt;link rel=&quot;stylesheet&quot; href=&quot;https://cdn.jsdelivr.net/npm/leaflet@1.9.3/dist/leaflet.css&quot;/&gt;\n",
              "    &lt;link rel=&quot;stylesheet&quot; href=&quot;https://cdn.jsdelivr.net/npm/bootstrap@5.2.2/dist/css/bootstrap.min.css&quot;/&gt;\n",
              "    &lt;link rel=&quot;stylesheet&quot; href=&quot;https://netdna.bootstrapcdn.com/bootstrap/3.0.0/css/bootstrap-glyphicons.css&quot;/&gt;\n",
              "    &lt;link rel=&quot;stylesheet&quot; href=&quot;https://cdn.jsdelivr.net/npm/@fortawesome/fontawesome-free@6.2.0/css/all.min.css&quot;/&gt;\n",
              "    &lt;link rel=&quot;stylesheet&quot; href=&quot;https://cdnjs.cloudflare.com/ajax/libs/Leaflet.awesome-markers/2.0.2/leaflet.awesome-markers.css&quot;/&gt;\n",
              "    &lt;link rel=&quot;stylesheet&quot; href=&quot;https://cdn.jsdelivr.net/gh/python-visualization/folium/folium/templates/leaflet.awesome.rotate.min.css&quot;/&gt;\n",
              "    \n",
              "            &lt;meta name=&quot;viewport&quot; content=&quot;width=device-width,\n",
              "                initial-scale=1.0, maximum-scale=1.0, user-scalable=no&quot; /&gt;\n",
              "            &lt;style&gt;\n",
              "                #map_d54d2b4b9705832eff9df4fff793760e {\n",
              "                    position: relative;\n",
              "                    width: 100.0%;\n",
              "                    height: 100.0%;\n",
              "                    left: 0.0%;\n",
              "                    top: 0.0%;\n",
              "                }\n",
              "                .leaflet-container { font-size: 1rem; }\n",
              "            &lt;/style&gt;\n",
              "        \n",
              "&lt;/head&gt;\n",
              "&lt;body&gt;\n",
              "    \n",
              "    \n",
              "            &lt;div class=&quot;folium-map&quot; id=&quot;map_d54d2b4b9705832eff9df4fff793760e&quot; &gt;&lt;/div&gt;\n",
              "        \n",
              "&lt;/body&gt;\n",
              "&lt;script&gt;\n",
              "    \n",
              "    \n",
              "            var map_d54d2b4b9705832eff9df4fff793760e = L.map(\n",
              "                &quot;map_d54d2b4b9705832eff9df4fff793760e&quot;,\n",
              "                {\n",
              "                    center: [45.5236, -122.675],\n",
              "                    crs: L.CRS.EPSG3857,\n",
              "                    zoom: 10,\n",
              "                    zoomControl: true,\n",
              "                    preferCanvas: false,\n",
              "                }\n",
              "            );\n",
              "\n",
              "            \n",
              "\n",
              "        \n",
              "    \n",
              "            var tile_layer_13c5335ac7053fc0685cb424780b0a71 = L.tileLayer(\n",
              "                &quot;https://tile.openstreetmap.org/{z}/{x}/{y}.png&quot;,\n",
              "                {&quot;attribution&quot;: &quot;\\u0026copy; \\u003ca href=\\&quot;https://www.openstreetmap.org/copyright\\&quot;\\u003eOpenStreetMap\\u003c/a\\u003e contributors&quot;, &quot;detectRetina&quot;: false, &quot;maxNativeZoom&quot;: 19, &quot;maxZoom&quot;: 19, &quot;minZoom&quot;: 0, &quot;noWrap&quot;: false, &quot;opacity&quot;: 1, &quot;subdomains&quot;: &quot;abc&quot;, &quot;tms&quot;: false}\n",
              "            );\n",
              "        \n",
              "    \n",
              "            tile_layer_13c5335ac7053fc0685cb424780b0a71.addTo(map_d54d2b4b9705832eff9df4fff793760e);\n",
              "        \n",
              "&lt;/script&gt;\n",
              "&lt;/html&gt;\" style=\"position:absolute;width:100%;height:100%;left:0;top:0;border:none !important;\" allowfullscreen webkitallowfullscreen mozallowfullscreen></iframe></div></div>"
            ]
          },
          "metadata": {},
          "execution_count": 1
        }
      ],
      "source": [
        "import folium\n",
        "\n",
        "m = folium.Map(location=(45.5236, -122.6750))\n",
        "\n",
        "m"
      ]
    },
    {
      "cell_type": "markdown",
      "source": [
        "①Map display-2 (Change the center of the map display: Change the center to Matsuyama City, Ehime Prefecture)"
      ],
      "metadata": {
        "id": "uNtDEL8qSJsi"
      }
    },
    {
      "cell_type": "markdown",
      "source": [
        "①地図表示ー２（地図表示の中心変更：センターを愛媛県松山市に変更）"
      ],
      "metadata": {
        "id": "O1q7U9EcU_2o"
      }
    },
    {
      "cell_type": "code",
      "execution_count": null,
      "metadata": {
        "id": "c0e6N1ZLVJpK",
        "outputId": "da45fe48-7a33-4090-f5bd-235ccc49f699",
        "colab": {
          "base_uri": "https://localhost:8080/",
          "height": 585
        }
      },
      "outputs": [
        {
          "output_type": "execute_result",
          "data": {
            "text/plain": [
              "<folium.folium.Map at 0x7cf6a8de5a50>"
            ],
            "text/html": [
              "<div style=\"width:100%;\"><div style=\"position:relative;width:100%;height:0;padding-bottom:60%;\"><span style=\"color:#565656\">Make this Notebook Trusted to load map: File -> Trust Notebook</span><iframe srcdoc=\"&lt;!DOCTYPE html&gt;\n",
              "&lt;html&gt;\n",
              "&lt;head&gt;\n",
              "    \n",
              "    &lt;meta http-equiv=&quot;content-type&quot; content=&quot;text/html; charset=UTF-8&quot; /&gt;\n",
              "    \n",
              "        &lt;script&gt;\n",
              "            L_NO_TOUCH = false;\n",
              "            L_DISABLE_3D = false;\n",
              "        &lt;/script&gt;\n",
              "    \n",
              "    &lt;style&gt;html, body {width: 100%;height: 100%;margin: 0;padding: 0;}&lt;/style&gt;\n",
              "    &lt;style&gt;#map {position:absolute;top:0;bottom:0;right:0;left:0;}&lt;/style&gt;\n",
              "    &lt;script src=&quot;https://cdn.jsdelivr.net/npm/leaflet@1.9.3/dist/leaflet.js&quot;&gt;&lt;/script&gt;\n",
              "    &lt;script src=&quot;https://code.jquery.com/jquery-3.7.1.min.js&quot;&gt;&lt;/script&gt;\n",
              "    &lt;script src=&quot;https://cdn.jsdelivr.net/npm/bootstrap@5.2.2/dist/js/bootstrap.bundle.min.js&quot;&gt;&lt;/script&gt;\n",
              "    &lt;script src=&quot;https://cdnjs.cloudflare.com/ajax/libs/Leaflet.awesome-markers/2.0.2/leaflet.awesome-markers.js&quot;&gt;&lt;/script&gt;\n",
              "    &lt;link rel=&quot;stylesheet&quot; href=&quot;https://cdn.jsdelivr.net/npm/leaflet@1.9.3/dist/leaflet.css&quot;/&gt;\n",
              "    &lt;link rel=&quot;stylesheet&quot; href=&quot;https://cdn.jsdelivr.net/npm/bootstrap@5.2.2/dist/css/bootstrap.min.css&quot;/&gt;\n",
              "    &lt;link rel=&quot;stylesheet&quot; href=&quot;https://netdna.bootstrapcdn.com/bootstrap/3.0.0/css/bootstrap-glyphicons.css&quot;/&gt;\n",
              "    &lt;link rel=&quot;stylesheet&quot; href=&quot;https://cdn.jsdelivr.net/npm/@fortawesome/fontawesome-free@6.2.0/css/all.min.css&quot;/&gt;\n",
              "    &lt;link rel=&quot;stylesheet&quot; href=&quot;https://cdnjs.cloudflare.com/ajax/libs/Leaflet.awesome-markers/2.0.2/leaflet.awesome-markers.css&quot;/&gt;\n",
              "    &lt;link rel=&quot;stylesheet&quot; href=&quot;https://cdn.jsdelivr.net/gh/python-visualization/folium/folium/templates/leaflet.awesome.rotate.min.css&quot;/&gt;\n",
              "    \n",
              "            &lt;meta name=&quot;viewport&quot; content=&quot;width=device-width,\n",
              "                initial-scale=1.0, maximum-scale=1.0, user-scalable=no&quot; /&gt;\n",
              "            &lt;style&gt;\n",
              "                #map_3412fd8e9c9ec0b2d39bdc3a10828114 {\n",
              "                    position: relative;\n",
              "                    width: 100.0%;\n",
              "                    height: 100.0%;\n",
              "                    left: 0.0%;\n",
              "                    top: 0.0%;\n",
              "                }\n",
              "                .leaflet-container { font-size: 1rem; }\n",
              "            &lt;/style&gt;\n",
              "        \n",
              "&lt;/head&gt;\n",
              "&lt;body&gt;\n",
              "    \n",
              "    \n",
              "            &lt;div class=&quot;folium-map&quot; id=&quot;map_3412fd8e9c9ec0b2d39bdc3a10828114&quot; &gt;&lt;/div&gt;\n",
              "        \n",
              "&lt;/body&gt;\n",
              "&lt;script&gt;\n",
              "    \n",
              "    \n",
              "            var map_3412fd8e9c9ec0b2d39bdc3a10828114 = L.map(\n",
              "                &quot;map_3412fd8e9c9ec0b2d39bdc3a10828114&quot;,\n",
              "                {\n",
              "                    center: [33.8392, 132.7656],\n",
              "                    crs: L.CRS.EPSG3857,\n",
              "                    zoom: 10,\n",
              "                    zoomControl: true,\n",
              "                    preferCanvas: false,\n",
              "                }\n",
              "            );\n",
              "\n",
              "            \n",
              "\n",
              "        \n",
              "    \n",
              "            var tile_layer_bce39f58c89c237208a593dfb3e69f1c = L.tileLayer(\n",
              "                &quot;https://tile.openstreetmap.org/{z}/{x}/{y}.png&quot;,\n",
              "                {&quot;attribution&quot;: &quot;\\u0026copy; \\u003ca href=\\&quot;https://www.openstreetmap.org/copyright\\&quot;\\u003eOpenStreetMap\\u003c/a\\u003e contributors&quot;, &quot;detectRetina&quot;: false, &quot;maxNativeZoom&quot;: 19, &quot;maxZoom&quot;: 19, &quot;minZoom&quot;: 0, &quot;noWrap&quot;: false, &quot;opacity&quot;: 1, &quot;subdomains&quot;: &quot;abc&quot;, &quot;tms&quot;: false}\n",
              "            );\n",
              "        \n",
              "    \n",
              "            tile_layer_bce39f58c89c237208a593dfb3e69f1c.addTo(map_3412fd8e9c9ec0b2d39bdc3a10828114);\n",
              "        \n",
              "&lt;/script&gt;\n",
              "&lt;/html&gt;\" style=\"position:absolute;width:100%;height:100%;left:0;top:0;border:none !important;\" allowfullscreen webkitallowfullscreen mozallowfullscreen></iframe></div></div>"
            ]
          },
          "metadata": {},
          "execution_count": 2
        }
      ],
      "source": [
        "import folium\n",
        "\n",
        "lat = 33.8392\n",
        "long = 132.7656\n",
        "\n",
        "m = folium.Map(location=(lat,long))\n",
        "\n",
        "m"
      ]
    },
    {
      "cell_type": "markdown",
      "source": [
        "①Map display-3 (change map zoom level)"
      ],
      "metadata": {
        "id": "KOifODz5SQua"
      }
    },
    {
      "cell_type": "markdown",
      "source": [
        "①地図表示ー３（地図のズームレベル変更）"
      ],
      "metadata": {
        "id": "3jr1aLGoVhgv"
      }
    },
    {
      "cell_type": "code",
      "execution_count": null,
      "metadata": {
        "id": "2A73PjetVryg"
      },
      "outputs": [],
      "source": [
        "import folium\n",
        "\n",
        "lat = 33.8392\n",
        "long = 132.7656\n",
        "\n",
        "m = folium.Map(location=[lat,long],zoom_start=17)\n",
        "# m = folium.Map(location=[lat,long],zoom_start=13)\n",
        "\n",
        "m"
      ]
    },
    {
      "cell_type": "markdown",
      "source": [
        "②Other map display (XYZ tiles: ERIS satellite image)"
      ],
      "metadata": {
        "id": "lOAoIwK7SW3O"
      }
    },
    {
      "cell_type": "markdown",
      "source": [
        "②他の地図表示（XYZタイル：ERIS衛星画像）"
      ],
      "metadata": {
        "id": "_7uAMkcckgQu"
      }
    },
    {
      "cell_type": "code",
      "source": [
        "import folium\n",
        "\n",
        "# 愛媛県松山市の緯度経度\n",
        "latitude = 33.8392\n",
        "longitude = 132.7656\n",
        "\n",
        "# Esriの衛星タイルセット\n",
        "tileset = r'https://server.arcgisonline.com/ArcGIS/rest/services/World_Imagery/MapServer/tile/{z}/{y}/{x}'\n",
        "\n",
        "# 松山市の地図を生成（Esriの衛星画像を使用）、attrは出典先の記載（標準地図でなく別のものを表示する時に必要）\n",
        "map_matsuyama = folium.Map(location=[latitude, longitude], zoom_start=14, tiles=tileset, attr='ERIS')\n",
        "\n",
        "\n",
        "# 衛星写真のビューの表示\n",
        "map_matsuyama\n"
      ],
      "metadata": {
        "id": "0w8PM_N4EDql"
      },
      "execution_count": null,
      "outputs": []
    },
    {
      "cell_type": "markdown",
      "source": [
        "③Multiple map display (layers OSM/satellite)"
      ],
      "metadata": {
        "id": "1u-MCDdIScR3"
      }
    },
    {
      "cell_type": "markdown",
      "source": [
        "③複数の地図表示（レイヤ　OSM／衛星）"
      ],
      "metadata": {
        "id": "P9T4Jy_OotLr"
      }
    },
    {
      "cell_type": "code",
      "source": [
        "import folium\n",
        "\n",
        "# 松山市の緯度と経度\n",
        "latitude = 33.8392\n",
        "longitude = 132.7656\n",
        "\n",
        "# 松山市を中心に地図を作成\n",
        "m = folium.Map(location=[latitude, longitude], zoom_start=16)\n",
        "\n",
        "# EsriのWorld Imageryタイルレイヤーを追加\n",
        "esri_imagery = folium.TileLayer(\n",
        "    tiles='https://server.arcgisonline.com/ArcGIS/rest/services/World_Imagery/MapServer/tile/{z}/{y}/{x}',\n",
        "    attr='ERIS',\n",
        "    name='Esri satelite'\n",
        ").add_to(m)\n",
        "\n",
        "# レイヤーの切り替えコントロールを追加\n",
        "folium.LayerControl().add_to(m)\n",
        "\n",
        "m"
      ],
      "metadata": {
        "id": "cYreeJ8no7Zz"
      },
      "execution_count": null,
      "outputs": []
    },
    {
      "cell_type": "markdown",
      "source": [
        "④ Save as an HTML file (can be viewed on other PCs)"
      ],
      "metadata": {
        "id": "CveM1tuOShxw"
      }
    },
    {
      "cell_type": "markdown",
      "source": [
        "④HTMLファイルで保存（他のPCで閲覧可能）"
      ],
      "metadata": {
        "id": "R2rilxORkJVV"
      }
    },
    {
      "cell_type": "code",
      "source": [
        "import folium\n",
        "\n",
        "# 松山市の緯度と経度\n",
        "latitude = 33.8392\n",
        "longitude = 132.7656\n",
        "\n",
        "# 松山市を中心に地図を作成\n",
        "m = folium.Map(location=[latitude, longitude], zoom_start=13)\n",
        "\n",
        "# EsriのWorld Imageryタイルレイヤーを追加\n",
        "esri_imagery = folium.TileLayer(\n",
        "    tiles='https://server.arcgisonline.com/ArcGIS/rest/services/World_Imagery/MapServer/tile/{z}/{y}/{x}',\n",
        "    attr='ERIS',\n",
        "    name='Esri satelite'\n",
        ").add_to(m)\n",
        "\n",
        "# レイヤーの切り替えコントロールを追加\n",
        "folium.LayerControl().add_to(m)\n",
        "\n",
        "# 地図をHTMLファイルとして保存\n",
        "m.save('map.html')"
      ],
      "metadata": {
        "id": "Dcp5TScfDY8A"
      },
      "execution_count": null,
      "outputs": []
    }
  ]
}